{
 "cells": [
  {
   "cell_type": "markdown",
   "metadata": {},
   "source": [
    "# Short Lab 3 : Proximal/cyclic/greedy coordinate descent\n",
    "\n",
    "#### Authors: M. Massias, P. Ablin\n",
    "\n",
    "## Aim\n",
    "\n",
    "The aim of this material is to code \n",
    "- cyclic and greedy coordinate descent for ordinary least squares (OLS)\n",
    "- proximal gradient descent for sparse Logistic regression\n",
    "\n",
    "## VERY IMPORTANT\n",
    "\n",
    "- This work **must be done by pairs of students**.\n",
    "- **Each** student must send their work **before the 11th of november at 23:59**, using the **moodle platform**.\n",
    "- This means that **each student in the pair sends the same file**\n",
    "- On the moodle, in the \"Optimization for Data Science\" course, you have a \"devoir\" section called **Rendu TP du 5 novembre 2017**. This is where you submit your jupyter notebook file. \n",
    "- The **name of the file must be** constructed as in the next cell\n",
    "\n",
    "# Gentle reminder: no evaluation if you don't respect this EXACTLY\n",
    "\n",
    "### How to construct the name of your file"
   ]
  },
  {
   "cell_type": "code",
   "execution_count": 1,
   "metadata": {},
   "outputs": [
    {
     "name": "stdout",
     "output_type": "stream",
     "text": [
      "lab3_el bez_salma_and_gharbi_mohamed rostom.ipynb\n"
     ]
    }
   ],
   "source": [
    "# Change here using YOUR first and last names\n",
    "fn1 = \"Salma\"\n",
    "ln1 = \"EL BEZ\"\n",
    "fn2 = \"Mohamed Rostom\"\n",
    "ln2 = \"GHARBI\"\n",
    "\n",
    "filename = \"_\".join(map(lambda s: s.strip().lower(), \n",
    "                        [\"lab3\", ln1, fn1, \"and\", ln2, fn2])) + \".ipynb\"\n",
    "print(filename)"
   ]
  },
  {
   "cell_type": "code",
   "execution_count": 2,
   "metadata": {},
   "outputs": [
    {
     "data": {
      "text/html": [
       "\n",
       "<style>\n",
       ".output_png {\n",
       "    display: table-cell;\n",
       "    text-align: center;\n",
       "    vertical-align: middle;\n",
       "}\n",
       "</style>\n"
      ],
      "text/plain": [
       "<IPython.core.display.HTML object>"
      ]
     },
     "execution_count": 2,
     "metadata": {},
     "output_type": "execute_result"
    }
   ],
   "source": [
    "## to embed figures in the notebook\n",
    "%matplotlib inline\n",
    "from IPython.core.display import HTML\n",
    "HTML(\"\"\"\n",
    "<style>\n",
    ".output_png {\n",
    "    display: table-cell;\n",
    "    text-align: center;\n",
    "    vertical-align: middle;\n",
    "}\n",
    "</style>\n",
    "\"\"\")"
   ]
  },
  {
   "cell_type": "code",
   "execution_count": 3,
   "metadata": {},
   "outputs": [],
   "source": [
    "import numpy as np\n",
    "from numpy.linalg import norm\n",
    "import matplotlib.pyplot as plt\n",
    "from scipy.optimize import fmin_bfgs\n",
    "from numpy.random import multivariate_normal\n",
    "from scipy.linalg.special_matrices import toeplitz\n",
    "from numpy.random import randn\n",
    "import seaborn"
   ]
  },
  {
   "cell_type": "code",
   "execution_count": 4,
   "metadata": {},
   "outputs": [],
   "source": [
    "# the usual functions:\n",
    "\n",
    "def simu(coefs, n_samples=1000, corr=0.5, for_logreg=False):\n",
    "    n_features = len(coefs)\n",
    "    cov = toeplitz(corr ** np.arange(0, n_features))\n",
    "    A = multivariate_normal(np.zeros(n_features), cov, size=n_samples)\n",
    "    b = A.dot(coefs) + randn(n_samples)\n",
    "    if for_logreg:\n",
    "        b = np.sign(b)\n",
    "    return A, b\n"
   ]
  },
  {
   "cell_type": "markdown",
   "metadata": {},
   "source": [
    "### Table of content : "
   ]
  },
  {
   "cell_type": "markdown",
   "metadata": {},
   "source": [
    "[1. Part 1](#1)<br>\n",
    "[2. Part 2](#2)<br>\n",
    "[3. Part 3](#3)<br>"
   ]
  },
  {
   "cell_type": "markdown",
   "metadata": {},
   "source": [
    "-------------------------------------------------------------------------------------------------"
   ]
  },
  {
   "cell_type": "markdown",
   "metadata": {},
   "source": [
    "<a id='1'></a>\n",
    "## Part 1: Ordinary Least Squares\n",
    "\n",
    "\n",
    "Let $A \\in \\mathbb{R}^{n \\times p}$, $y \\in \\mathbb{R}^n$.\n",
    "We want to use coordinate descent to solve:\n",
    "    $$\\hat w \\in  \\mathrm{arg \\, min \\,} \\frac 12 \\Vert Aw - b \\Vert ^2 $$\n",
    "\n",
    "We ask you to code:\n",
    "- cyclic coordinate descent: at iteration $t$, update feature $j = t \\mod p$\n",
    "- greedy coordinate descent: at iteration $t$, update feature having the largest partial gradient in magnitude, ie $j = \\mathrm{arg\\, max \\,}_{i} \\vert \\nabla_i f(w_t) \\vert$.\n",
    "\n",
    "\n",
    "**WARNING**: You must do this in a clever way, ie such that $p$ updates cost the same as one update of GD."
   ]
  },
  {
   "cell_type": "markdown",
   "metadata": {},
   "source": [
    "- compute a precise minimum with your favorite solver\n",
    "- compare the performance of cyclic and greedy CD\n",
    "\n",
    "- could you use greedy CD for unregularized logistic regression? for OLS, but with 100,000 features? Explain your answers."
   ]
  },
  {
   "cell_type": "code",
   "execution_count": 5,
   "metadata": {},
   "outputs": [],
   "source": [
    "n_features = 100\n",
    "np.random.seed(1970)\n",
    "coefs = np.random.randn(n_features)\n",
    "n_iter = 10000\n",
    "A, b = simu(coefs, n_samples=1000, for_logreg=False)"
   ]
  },
  {
   "cell_type": "code",
   "execution_count": 6,
   "metadata": {},
   "outputs": [],
   "source": [
    "def cyclic_cd(A, b, n_iter):\n",
    "    n_samples, n_features = A.shape\n",
    "    all_objs = []\n",
    "    \n",
    "    w = np.zeros(n_features)\n",
    "    residuals = b - A.dot(w)\n",
    "    \n",
    "    # TODO\n",
    "    lips_const=np.linalg.norm(A,axis=0)**2\n",
    "    # Lips_const is an array of n features. \n",
    "    # END TODO\n",
    "    \n",
    "    for t in range(n_iter):\n",
    "        \n",
    "        j = t % n_features\n",
    "        old_w_j =w[j] \n",
    "        w[j] += A[:, j].dot(residuals) / lips_const[j]\n",
    "        residuals += A[:, j]*(old_w_j - w[j])\n",
    "        \n",
    "        if t % n_features == 0:\n",
    "            all_objs.append((residuals ** 2).sum() / 2.)\n",
    "    \n",
    "    return w, np.array(all_objs)\n",
    "\n",
    "\n",
    "\n",
    "def greedy_cd(A, b, n_iter):\n",
    "    n_samples, n_features = A.shape\n",
    "    all_objs = []\n",
    "    \n",
    "    w = np.zeros(n_features)\n",
    "    \n",
    "    gradient = A.T.dot(A.dot(w) - b)\n",
    "    gram = A.T.dot(A)  # you will need this to keep the gradient up to date\n",
    "    \n",
    "    lips_const=np.linalg.norm(A,axis=0)**2\n",
    "    \n",
    "    for t in range(n_iter):\n",
    "        \n",
    "        j = np.argmax(np.abs(gradient))  \n",
    "        old_w_j =w[j] \n",
    "        w[j] -= gradient[j] / lips_const[j]        \n",
    "        gradient += gram[:, j] * (w[j]-old_w_j)\n",
    "        \n",
    "        if t % n_features == 0:\n",
    "            all_objs.append(0.5 * np.linalg.norm(A.dot(w) - b) ** 2)\n",
    "    \n",
    "    return w, np.array(all_objs)"
   ]
  },
  {
   "cell_type": "markdown",
   "metadata": {},
   "source": [
    "### Compute a precise minimum with your favorite solver"
   ]
  },
  {
   "cell_type": "markdown",
   "metadata": {},
   "source": [
    "For this, we will use bfgs algorithm to compute the minimum. "
   ]
  },
  {
   "cell_type": "markdown",
   "metadata": {},
   "source": [
    "References : https://docs.scipy.org/doc/scipy/reference/generated/scipy.optimize.fmin_bfgs.html"
   ]
  },
  {
   "cell_type": "code",
   "execution_count": 7,
   "metadata": {},
   "outputs": [],
   "source": [
    "from numpy import linalg as LA\n",
    "\n",
    "def loss(w,A,b):\n",
    "    return 0.5*LA.norm(A.dot(w) - b, ord=2)**2\n",
    "\n",
    "def grad(w,A,b):\n",
    "    return A.T.dot(A.dot(w) - b)"
   ]
  },
  {
   "cell_type": "markdown",
   "metadata": {},
   "source": [
    "Those functions will be needed to compute the minimum using the bfgs minimizer. "
   ]
  },
  {
   "cell_type": "code",
   "execution_count": 8,
   "metadata": {},
   "outputs": [
    {
     "name": "stdout",
     "output_type": "stream",
     "text": [
      "Optimization terminated successfully.\n",
      "         Current function value: 466.384977\n",
      "         Iterations: 119\n",
      "         Function evaluations: 170\n",
      "         Gradient evaluations: 170\n"
     ]
    }
   ],
   "source": [
    "x_init = np.zeros(A.shape[1])\n",
    "x_min = fmin_bfgs(loss, x_init, grad, args=(A, b))\n",
    "f_min=loss(x_min,A,b)"
   ]
  },
  {
   "cell_type": "markdown",
   "metadata": {},
   "source": [
    "### Compare the performance of cyclic and greedy CD"
   ]
  },
  {
   "cell_type": "code",
   "execution_count": 9,
   "metadata": {},
   "outputs": [],
   "source": [
    "_, all_objs_cyclic = cyclic_cd(A, b, n_iter)\n",
    "_, all_objs_greedy = greedy_cd(A, b, n_iter)"
   ]
  },
  {
   "cell_type": "code",
   "execution_count": 10,
   "metadata": {},
   "outputs": [
    {
     "data": {
      "image/png": "[encoded data removed]",
      "text/plain": [
       "<Figure size 720x360 with 1 Axes>"
      ]
     },
     "metadata": {},
     "output_type": "display_data"
    }
   ],
   "source": [
    "n_epoch=len(all_objs_cyclic)\n",
    "x_ax=[i for i in range(n_epoch)]\n",
    "plt.figure(figsize=(10,5))\n",
    "plt.semilogy(x_ax,all_objs_cyclic-f_min, label='Cyclic coordinate descent')\n",
    "plt.semilogy(x_ax,all_objs_greedy-f_min, label='Greey coordinate descent')\n",
    "plt.xlabel('Number of epoch')\n",
    "plt.legend(loc = 'best')\n",
    "plt.ylabel('Difference to the minimum')\n",
    "plt.title(\"Cyclic versus Greedy coordinate descent \")\n",
    "plt.grid(True)"
   ]
  },
  {
   "cell_type": "markdown",
   "metadata": {},
   "source": [
    "#### Comments : \n",
    "\n",
    "We clearly see that the greedy coordinate descent is faster than the cyclic coordinate descent.\n",
    "\n",
    "It is explained by the fact that the greedy algorithm always chooses the direction with the highest gradient. For the greedy algorithm, we choose \"j\" such as $j = \\mathrm{arg\\, max \\,}_{i} \\vert \\nabla_i f(w_t) \\vert$ and that's what makes the greedy algorithm faster. "
   ]
  },
  {
   "cell_type": "markdown",
   "metadata": {},
   "source": [
    "### Could you use greedy CD for unregularized logistic regression? for OLS, but with 100,000 features? Explain your answers."
   ]
  },
  {
   "cell_type": "markdown",
   "metadata": {},
   "source": [
    "#### From mathematic point of view :"
   ]
  },
  {
   "cell_type": "markdown",
   "metadata": {},
   "source": [
    "In order to use the greedy CD for unregularized logistic regression. Our function $f=\\frac 12 \\Vert Aw - b \\Vert ^2 $ needs to be strictly convex, and thus it's hessian matrix  $\\nabla^2f=A^T.A$ is definite positive. Which might not be the case here, with 100,000 features. "
   ]
  },
  {
   "cell_type": "markdown",
   "metadata": {},
   "source": [
    "#### From a computational point of view :"
   ]
  },
  {
   "cell_type": "markdown",
   "metadata": {},
   "source": [
    "When we have the number of features equal to 100,000 not only the computational effort that needs to be made is huge, but also, this requires a large memory, because we will compute $A^TA$ that has 100,000 rows, and also 100,000 columns. \n",
    "\n",
    "\n",
    "Computing a matrix $A^TA \\in   \\mathbb{R}^{100000 x 100000}$ will be very costly. \n"
   ]
  },
  {
   "cell_type": "markdown",
   "metadata": {},
   "source": [
    "-------------------------------------------------------------------------------------------------"
   ]
  },
  {
   "cell_type": "markdown",
   "metadata": {},
   "source": [
    "<a id='2'></a>\n",
    "## Part 2: Sparse Logistic regression"
   ]
  },
  {
   "cell_type": "markdown",
   "metadata": {},
   "source": [
    "### An important result\n",
    "\n",
    "Remember: we are solving \n",
    "$$\\hat w \\in \\mathrm{arg \\, min} \\sum_{i=1}^{n} \\mathrm{log} ( 1 + e^{- y_i w^\\top x_i} )  + \\lambda \\Vert w \\Vert_1$$\n",
    "1) Show that:\n",
    "$$ \\lambda \\geq \\lambda_{max} \\implies \\hat w = 0$$\n",
    "where $\\lambda_{max} := \\frac 12 \\Vert X^\\top y \\Vert_{\\infty}$.\n",
    "\n",
    "\n",
    "You will need the following beautiful result: for any $w =(w_1, \\dots, w_p) \\in \\mathbb{R}^p$, the subdifferential of the L1 norm at $w$ is:\n",
    "\n",
    "$$\\partial \\Vert \\cdot \\Vert_1 (w) = \\partial \\vert \\cdot \\vert_1 (w_1)  \\times \\dots \\times \\partial \\vert \\cdot \\vert_1 (w_p) $$\n",
    "where $\\times$ is the Cartesian product between sets,\n",
    "and $$ \\partial \\vert \\cdot \\vert_1 (w_1) = \n",
    "\\begin{cases} &w_j / |w_j| &\\mathrm{if} \\quad w_j \\neq 0, \n",
    "         \\\\ & [-1, 1] &\\mathrm{otherwise.} \n",
    "\\end{cases}\n",
    "$$\n",
    "\n",
    "\n",
    "(it should now be easy to find $\\partial \\Vert \\cdot \\Vert_1 (\\mathbf{0}_p)$)"
   ]
  },
  {
   "cell_type": "markdown",
   "metadata": {},
   "source": [
    "**Answer**\n",
    "\n",
    "Let  $ g(x) = \\sum_{i=1}^{n} \\mathrm{log} ( 1 + e^{- y_i w^\\top x_i} )  + \\lambda \\Vert w \\Vert_1$\n",
    "\n",
    "1) We have : \n",
    "\n",
    "$$\\hat w \\in \\mathrm{arg \\, min} g(x) \\iff \\mathbf{0}_p  \\in \\partial g(\\hat w)$$\n",
    "\n",
    "2) We calculate the subdifferential of g: \n",
    "\n",
    "$$ \\partial g(\\hat w) =  \\sum_{i=1}^{n} \\frac{-y_i x_i^\\top e^{- y_i w^\\top x_i}}{ 1 + e^{- y_i w^\\top x_i} } + \\partial \\Vert \\cdot \\Vert_1 (\\hat w)  $$\n",
    "\n",
    "3) Applied to the null vector : \n",
    " \n",
    "$$ \\partial g(\\mathbf{0}_p) =  \\sum_{i=1}^{n} \\frac{-y_i x_i^\\top }{ 2} + \\partial \\Vert \\cdot \\Vert_1 (\\mathbf{0}_p)  $$\n",
    "\n",
    "4) Check that the given necessary condition guaranties that $\\mathbf{0}_p \\in \\partial g(\\mathbf{0}_p) $ : \n",
    " \n",
    " We have $ \\sum_{i=1}^{n} \\frac{-y_i x_i^\\top }{ 2} = - \\frac 12  X^\\top y  $\n",
    " \n",
    "So since $\\partial \\Vert \\cdot \\Vert_1 (\\mathbf{0}_p)= [-1, 1]$ , we must have :\n",
    "\n",
    "$$ 0 \\in  [- \\frac 12 (X^\\top y)_i - \\lambda, - \\frac 12 (X^\\top y)_i + \\lambda ],  \\forall i \\in [1,p] $$  \n",
    "\n",
    "If $  \\lambda \\geq  \\vert  \\frac 12 (X^\\top y)_i \\vert \\forall i \\iff \\lambda \\geq \\max_{i} ( \\frac 12 \\vert (X^\\top y)_i\\vert) \\iff \\lambda \\geq \\lambda_{max}$ then the above condition holds.\n"
   ]
  },
  {
   "cell_type": "markdown",
   "metadata": {},
   "source": [
    "2) Show that for sparse Logistic regression the coordinate-wise Lipschitz constant of the smooth term, $\\gamma_j$, can be taken equal to $\\Vert X_j \\Vert^2 / 4$, where $X_j$ denotes the $j$-th column of $X$."
   ]
  },
  {
   "cell_type": "markdown",
   "metadata": {},
   "source": [
    "**Answer**\n",
    "\n",
    "We denote $L_i$ the coordinate-wise Lipschitz constant of the logistic regression term:\n",
    "\n",
    "$$ f(w) =  \\sum_{i=1}^{n} \\mathrm{log} ( 1 + e^{- y_i w^\\top x_i} ) $$\n",
    "\n",
    "Computing the second derivative according to $ w_i$ gives :\n",
    "\n",
    "$$ \\frac{\\partial ^2 f}{(\\partial w_i)^2} = \\sum_{i=1}^{n} \\frac{y_i^2 X_{ij}^2 e^{ y_i w^\\top x_i}}{( 1 + e^{ y_i w^\\top x_i} )^2} $$\n",
    "\n",
    "The funtion $ \\frac{e^x}{(1+e^x)^2} $ reaches its maximum at 0 with value $\\frac 14$, therefore\n",
    "\n",
    "$$ \\frac{\\partial ^2 f}{(\\partial w_i)^2} = \\sum_{i=1}^{n} \\frac{y_i^2 X_{ij}^2 e^{ y_i w^\\top x_i}}{( 1 + e^{ y_i w^\\top x_i} )^2} \\leq  \\frac 14 \\sum_{i=1}^{n} y_i^2 X_{ij}^2 \\leq \\frac 14 \\sum_{i=1}^{n} X_{ij}^2 = \\frac {\\Vert X_j \\Vert^2 }{4} $$\n",
    "\n",
    "Which proves the desired result."
   ]
  },
  {
   "cell_type": "markdown",
   "metadata": {},
   "source": [
    "**Bonus**: show that is possible, when the current iterate is w, to use the better Lipschitz constant \n",
    "    $$\\sum_i  \\frac{X_{i, j}^2 e^{(Xw)_i}}{(1 + e^{(Xw)_i})^2} $$\n",
    "    \n",
    "(why is it better?)\n",
    "\n",
    "Implement it in the code with a `better_lc` parameter, and compare."
   ]
  },
  {
   "cell_type": "markdown",
   "metadata": {},
   "source": [
    "**Answer**\n",
    "\n",
    "This new $L_i$ is better because bigger progress in the gradient step is made when L is smaller.\n",
    "\n",
    "Let's go back to  $ \\frac{\\partial ^2 f}{(\\partial w_i)^2} = \\sum_{i=1}^{n} \\frac{y_i^2 X_{ij}^2 e^{ y_i w^\\top x_i}}{( 1 + e^{ y_i w^\\top x_i} )^2} $ .\n",
    "We also have that $ g(x) = \\frac{e^x}{(1+e^x)^2} $ is a positive symetric function  which implies that: \n",
    "\n",
    "$$  |x|= |y| \\implies g(x) = g(y)$$\n",
    "\n",
    "And since $\\forall i $ we have : $  |y_i w^\\top x_i| = |(Xw)_i|$ . We have $ \\frac{\\partial ^2 f}{(\\partial w_i)^2} \\leq  \\sum_{i=1}^{n} \\frac{X_{ij}^2 e^{ y_i w^\\top x_i}}{( 1 + e^{ y_i w^\\top x_i} )^2}= \\sum_i \\frac{X_{i, j}^2 e^{(Xw)_i}}{(1 + e^{(Xw)_i})^2} =L_i $. This proves the desired result."
   ]
  },
  {
   "cell_type": "markdown",
   "metadata": {},
   "source": [
    "You are now ready to code cyclic proximal coordinate descent for sparse Logistic regression:"
   ]
  },
  {
   "cell_type": "code",
   "execution_count": 11,
   "metadata": {},
   "outputs": [],
   "source": [
    "##Define initial parameters\n",
    "n_features = 100\n",
    "np.random.seed(1970)\n",
    "coefs = np.random.randn(n_features)\n",
    "\n",
    "X, y = simu(coefs, n_samples=1000, for_logreg=True)\n",
    "lambda_max = norm(X.T.dot(y), ord= np.inf) / 2.\n",
    "lamb = lambda_max / 10.\n",
    "n_iter=100"
   ]
  },
  {
   "cell_type": "code",
   "execution_count": 12,
   "metadata": {},
   "outputs": [],
   "source": [
    "# much easier to parametrize lambda as a function of lambda_max than \n",
    "# to take random values like 0.1 in previous Labs\n",
    "\n",
    "def sigmoid(t):\n",
    "    \"\"\"Sigmoid function\"\"\"\n",
    "    return 1. / (1. + np.exp(-t))\n",
    "\n",
    "\n",
    "def soft_thresh(x, u):\n",
    "    \"\"\"Soft thresholding of x at level u\"\"\"\n",
    "    return np.maximum(0., np.abs(x) - u)\n",
    "\n",
    "\n",
    "def cd_logreg(X, y, lamb, n_iter, better_lc=False):\n",
    "    n_samples, n_features = X.shape\n",
    "    w = np.zeros(n_features)\n",
    "    Xw = X.dot(w)\n",
    "    all_objs= []\n",
    "    # TODO\n",
    "    if better_lc== False: \n",
    "        lips_const = [(norm(X[:,j])**2)/4 for j in range(n_features)]\n",
    "    # END TODO\n",
    "    \n",
    "    for t in range(n_iter):\n",
    "        for j in range(n_features):\n",
    "            old_w_j = w[j]\n",
    "            # TODO\n",
    "            grad_j = - np.sum( y * X[:,j] * sigmoid(-y* Xw))\n",
    "\n",
    "            if better_lc == False:\n",
    "                w[j] = np.sign(old_w_j - (1/lips_const[j]) * grad_j) * soft_thresh( old_w_j - (1/lips_const[j]) * grad_j , lamb/lips_const[j])\n",
    "            else: \n",
    "                L_j = np.sum( X[:,j]**2 * (np.exp(Xw) / (1 + np.exp(Xw))**2) )\n",
    "                w[j] = np.sign(old_w_j - (1/L_j) * grad_j) * soft_thresh(old_w_j -(1/L_j) * grad_j,lamb/L_j)   \n",
    "\n",
    "            if old_w_j != w[j]:\n",
    "                Xw += X[:,j] * w[j] - X[:,j] * old_w_j\n",
    "\n",
    "        #END TODO\n",
    "        all_objs.append( np.log(1. + np.exp(-y * Xw)).sum() + lamb * norm(w, ord=1) )\n",
    "    \n",
    "    return w, all_objs"
   ]
  },
  {
   "cell_type": "code",
   "execution_count": 13,
   "metadata": {},
   "outputs": [],
   "source": [
    "import time \n",
    "\n",
    "debut1 = time.time()\n",
    "w_normal,all_objs_normal = cd_logreg(X, y, lamb, n_iter, better_lc=False)\n",
    "fin1 = time.time()\n",
    "\n",
    "debut2 = time.time()\n",
    "w_normal,all_objs_better = cd_logreg(X, y, lamb, n_iter, better_lc=True)\n",
    "fin2 = time.time()"
   ]
  },
  {
   "cell_type": "markdown",
   "metadata": {},
   "source": [
    "** Plots for comparison : better_lc True/False**"
   ]
  },
  {
   "cell_type": "code",
   "execution_count": 14,
   "metadata": {},
   "outputs": [
    {
     "name": "stdout",
     "output_type": "stream",
     "text": [
      "For the case, better_lc = False : 0.5998077392578125 s.\n",
      "For the case, better_lc = True : 1.0956313610076904 s.\n"
     ]
    }
   ],
   "source": [
    "print('For the case, better_lc = False :', fin1 - debut1, 's.')\n",
    "print('For the case, better_lc = True :', fin2 - debut2, 's.')"
   ]
  },
  {
   "cell_type": "markdown",
   "metadata": {},
   "source": [
    "In term of time, we clearly see that when better_lc is equal to False, it takes less time to compute the objective function, than when it is equal to True. "
   ]
  },
  {
   "cell_type": "code",
   "execution_count": 15,
   "metadata": {},
   "outputs": [
    {
     "data": {
      "image/png": "[encoded data removed]",
      "text/plain": [
       "<Figure size 1080x360 with 2 Axes>"
      ]
     },
     "metadata": {},
     "output_type": "display_data"
    }
   ],
   "source": [
    "x_ax = [i for i in range(n_iter)]\n",
    "eps = np.finfo('float').eps\n",
    "\n",
    "plt.figure(figsize=(15,5))\n",
    "plt.subplot(1, 2, 1)\n",
    "plt.semilogy(x_ax, np.maximum(all_objs_normal[:n_iter] - all_objs_better[-1], eps) ,'r-', \n",
    "             label ='normal lc')\n",
    "plt.xlabel('number of iterations')\n",
    "plt.legend(loc = 'best')\n",
    "plt.ylabel('Difference to the minimum')\n",
    "plt.title(\"Coordinate descent with better_lc=False \")\n",
    "plt.grid(True)\n",
    "\n",
    "\n",
    "plt.subplot(1, 2, 2)\n",
    "plt.semilogy(x_ax, np.maximum(all_objs_better[:n_iter]- all_objs_better[-1], eps),'g-', label ='better lc')\n",
    "plt.xlabel('number of iterations')\n",
    "plt.legend(loc = 'best')\n",
    "plt.ylabel('Difference to the minimum')\n",
    "plt.title(\"Coordinate descent with better_lc=True\")\n",
    "plt.grid(True)\n",
    "\n",
    "plt.show()"
   ]
  },
  {
   "cell_type": "markdown",
   "metadata": {},
   "source": [
    "In terms of number of iterations, we clearly see that when better_lc is equal to True, it convergs to the minimum with less iterations.\n"
   ]
  },
  {
   "cell_type": "markdown",
   "metadata": {},
   "source": [
    "**Comments**\n",
    "\n",
    "As expected the CD with the w-dependant Lipschitz constant is faster in terms of iterations. In fact, as explained above, bigger progress is made at each step of coordinate-wise gradient descent since  $step=\\frac{1}{L}$ is bigger for the w-dependant Lipschitz constant. The wiggly tails are dues to numpy precision issues."
   ]
  },
  {
   "cell_type": "markdown",
   "metadata": {},
   "source": [
    "-------------------------------------------------------------------------------------------------"
   ]
  },
  {
   "cell_type": "markdown",
   "metadata": {},
   "source": [
    "<a id='3'></a>\n",
    "# Part 3: Real data\n",
    "\n",
    "We will compare vanilla cyclic CD and ISTA to solve the Lasso on a real dataset, called _leukemia_.\n",
    "\n",
    "You can download the file here: http://web.stanford.edu/~hastie/CASI_files/DATA/leukemia_big.csv, and you should place it in the same folder as the current notebook."
   ]
  },
  {
   "cell_type": "code",
   "execution_count": 16,
   "metadata": {},
   "outputs": [
    {
     "name": "stdout",
     "output_type": "stream",
     "text": [
      "(72, 7128)\n",
      "[ 1  1 -1 -1  1  1  1 -1]\n"
     ]
    }
   ],
   "source": [
    "from numpy import genfromtxt\n",
    "y = 2 * (genfromtxt('leukemia_big.csv', delimiter=',', dtype=str)[0] == 'ALL') - 1\n",
    "X = genfromtxt('leukemia_big.csv', delimiter=',')[1:].T\n",
    "\n",
    "print(X.shape)\n",
    "print(y[::10])"
   ]
  },
  {
   "cell_type": "code",
   "execution_count": 17,
   "metadata": {},
   "outputs": [],
   "source": [
    "lambda_max_lasso = norm(X.T.dot(y), ord= np.inf) / 2.\n",
    "lamb = lambda_max_lasso / 10."
   ]
  },
  {
   "cell_type": "markdown",
   "metadata": {},
   "source": [
    "Code:\n",
    "- a simple proximal gradient solver for the Lasso\n",
    "- a prox CD solver for the Lasso\n",
    "and compare them on this dataset. \n",
    "Do the plots in terms of epochs, not updates (to be fair to CD)."
   ]
  },
  {
   "cell_type": "code",
   "execution_count": 18,
   "metadata": {},
   "outputs": [],
   "source": [
    "def ISTA(X,y,lamb, n_iter):\n",
    "    \n",
    "    n_samples,n_features = X.shape\n",
    "    w = np.zeros(n_features)\n",
    "    all_objs = []\n",
    "    L = norm(X, 2) ** 2 / (4 * n_samples)\n",
    "    \n",
    "    for k in range(n_iter):\n",
    "        grad_w = np.sum( (-y * X.T) *  (1 / (1 + np.exp(y * X.dot(w)))), axis=1 )\n",
    "        w = np.sign(w - (1./L) * grad_w) * soft_thresh(w - (1./L) * grad_w, lamb * (1./L))\n",
    "        all_objs.append(np.log(1. + np.exp(-y * X.dot(w))).sum() + lamb * norm(w, ord=1))\n",
    "    \n",
    "    return w, all_objs"
   ]
  },
  {
   "cell_type": "code",
   "execution_count": 19,
   "metadata": {},
   "outputs": [],
   "source": [
    "n_iter = 200\n",
    "\n",
    "debut1 = time.time()\n",
    "_,all_objs_ista = ISTA(X,y,lamb,n_iter)\n",
    "fin1 = time.time()\n",
    "\n",
    "debut2 = time.time()\n",
    "_,all_objs_ccd = cd_logreg(X, y, lamb, n_iter, better_lc=True)\n",
    "fin2 = time.time()"
   ]
  },
  {
   "cell_type": "code",
   "execution_count": 20,
   "metadata": {},
   "outputs": [
    {
     "name": "stdout",
     "output_type": "stream",
     "text": [
      "For ISTA : 0.771216630935669 s.\n",
      "For prox cd solver : 52.162750244140625 s.\n"
     ]
    }
   ],
   "source": [
    "print('For ISTA :', fin1 - debut1, 's.')\n",
    "print('For prox cd solver :', fin2 - debut2, 's.')"
   ]
  },
  {
   "cell_type": "code",
   "execution_count": 21,
   "metadata": {},
   "outputs": [
    {
     "data": {
      "image/png": "[encoded data removed]",
      "text/plain": [
       "<Figure size 1080x432 with 2 Axes>"
      ]
     },
     "metadata": {},
     "output_type": "display_data"
    }
   ],
   "source": [
    "x_ax = [i for i in range(n_iter)]\n",
    "\n",
    "plt.figure(figsize=(15,6))\n",
    "plt.subplot(1, 2, 1)\n",
    "plt.semilogy(x_ax, all_objs_ista[:n_iter] - all_objs_ista[-1] ,'r-', \n",
    "             label ='Ista')\n",
    "plt.xlabel('Number of epochs')\n",
    "plt.legend(loc = 'best')\n",
    "plt.ylabel('Difference to the minimum')\n",
    "plt.title(\" ISTA \")\n",
    "plt.grid(True)\n",
    "\n",
    "\n",
    "#n_epoch=len(all_objs_ccd)\n",
    "plt.subplot(1, 2, 2)\n",
    "plt.semilogy(x_ax, np.maximum(all_objs_ccd[:n_iter]- all_objs_ccd[-1], eps),'g-', label='cyclic CD')\n",
    "plt.xlabel('Number of epochs')\n",
    "plt.legend(loc = 'best')\n",
    "plt.ylabel('Difference to the minimum')\n",
    "plt.title(\"Cyclic coordinate descent\")\n",
    "plt.grid(True)\n",
    "\n",
    "plt.show()"
   ]
  },
  {
   "cell_type": "markdown",
   "metadata": {},
   "source": [
    "Comments : \n",
    "\n",
    "- In term of time, ISTA takes very much less time to compute than the cyclic coordinate descent.\n",
    "\n",
    "- In term of number of epochs, the cyclic coordinate descent gets faster to the minimum than ISTA. \n",
    "\n",
    "- On the other hand, we need to mention that for this case, we are young a matrix X with 72 features, and that it why ISTA was faster. We need to remember what we said above in part 1 about increasing the features and it's effect on the coordinate descent performance. "
   ]
  },
  {
   "cell_type": "code",
   "execution_count": null,
   "metadata": {},
   "outputs": [],
   "source": []
  }
 ],
 "metadata": {
  "anaconda-cloud": {},
  "kernelspec": {
   "display_name": "Python 3",
   "language": "python",
   "name": "python3"
  },
  "language_info": {
   "codemirror_mode": {
    "name": "ipython",
    "version": 3
   },
   "file_extension": ".py",
   "mimetype": "text/x-python",
   "name": "python",
   "nbconvert_exporter": "python",
   "pygments_lexer": "ipython3",
   "version": "3.6.5"
  }
 },
 "nbformat": 4,
 "nbformat_minor": 2
}
